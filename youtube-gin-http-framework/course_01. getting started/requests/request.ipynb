{
 "cells": [
  {
   "cell_type": "code",
   "execution_count": 23,
   "metadata": {},
   "outputs": [
    {
     "name": "stdout",
     "output_type": "stream",
     "text": [
      "The autoreload extension is already loaded. To reload it, use:\n",
      "  %reload_ext autoreload\n"
     ]
    }
   ],
   "source": [
    "%load_ext autoreload\n",
    "%autoreload 2"
   ]
  },
  {
   "cell_type": "code",
   "execution_count": 24,
   "metadata": {},
   "outputs": [],
   "source": [
    "import request as rq"
   ]
  },
  {
   "cell_type": "code",
   "execution_count": 25,
   "metadata": {},
   "outputs": [
    {
     "data": {
      "text/plain": [
       "{'title': 'Test Video',\n",
       " 'description': 'Test Video Description',\n",
       " 'url': 'https://www.youtube.com/watch?v=dQw4w9WgXcQ'}"
      ]
     },
     "execution_count": 25,
     "metadata": {},
     "output_type": "execute_result"
    }
   ],
   "source": [
    "post_videos_data = {\n",
    "    \"title\": \"Test Video\",\n",
    "    \"description\": \"Test Video Description\",\n",
    "    \"url\": \"https://www.youtube.com/watch?v=dQw4w9WgXcQ\",\n",
    "}\n",
    "\n",
    "post_video_data_response = rq.post_videos(post_videos_data)\n",
    "post_video_data_response"
   ]
  },
  {
   "cell_type": "code",
   "execution_count": 26,
   "metadata": {},
   "outputs": [
    {
     "data": {
      "text/plain": [
       "[{'title': 'Test Video',\n",
       "  'description': 'Test Video Description',\n",
       "  'url': 'https://www.youtube.com/watch?v=dQw4w9WgXcQ'}]"
      ]
     },
     "execution_count": 26,
     "metadata": {},
     "output_type": "execute_result"
    }
   ],
   "source": [
    "get_videos_response = rq.get_videos()\n",
    "get_videos_response"
   ]
  },
  {
   "cell_type": "code",
   "execution_count": null,
   "metadata": {},
   "outputs": [],
   "source": []
  }
 ],
 "metadata": {
  "kernelspec": {
   "display_name": "Python 3.7.13 ('full-topping')",
   "language": "python",
   "name": "python3"
  },
  "language_info": {
   "codemirror_mode": {
    "name": "ipython",
    "version": 3
   },
   "file_extension": ".py",
   "mimetype": "text/x-python",
   "name": "python",
   "nbconvert_exporter": "python",
   "pygments_lexer": "ipython3",
   "version": "3.10.4"
  },
  "orig_nbformat": 4,
  "vscode": {
   "interpreter": {
    "hash": "6982d3215651ef1cecaffedb737c2ea8301b565ecfd22ead79a6d669a4ce95a9"
   }
  }
 },
 "nbformat": 4,
 "nbformat_minor": 2
}
