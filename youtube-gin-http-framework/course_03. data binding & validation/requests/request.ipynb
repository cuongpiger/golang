{
 "cells": [
  {
   "cell_type": "code",
   "execution_count": 2,
   "metadata": {},
   "outputs": [],
   "source": [
    "%load_ext autoreload\n",
    "%autoreload 2"
   ]
  },
  {
   "cell_type": "code",
   "execution_count": 14,
   "metadata": {},
   "outputs": [],
   "source": [
    "import request as rq"
   ]
  },
  {
   "cell_type": "code",
   "execution_count": 15,
   "metadata": {},
   "outputs": [],
   "source": [
    "USERNAME = \"pragmatic\"\n",
    "PASSWORD = \"reviews\""
   ]
  },
  {
   "cell_type": "code",
   "execution_count": 28,
   "metadata": {},
   "outputs": [
    {
     "data": {
      "text/plain": [
       "{'message': 'Video input is valid.'}"
      ]
     },
     "execution_count": 28,
     "metadata": {},
     "output_type": "execute_result"
    }
   ],
   "source": [
    "valid_auth_post_videos = {\n",
    "    \"title\": \"Title Cool\",\n",
    "    \"description\": \"Description\",\n",
    "    \"url\": \"https://www.youtube.com/watch?v=dQw4w9WgXcQ\",\n",
    "    \"author\": {\n",
    "        \"firstname\": \"Rodrigo\",\n",
    "        \"lastname\": \"Perez\",\n",
    "        \"age\": 23,\n",
    "        \"email\": \"rodrigo_perez@email.com\"    \n",
    "    },\n",
    "}\n",
    "\n",
    "valid_auth_post_videos_response = rq.auth_post_videos(USERNAME, PASSWORD, valid_auth_post_videos)\n",
    "valid_auth_post_videos_response"
   ]
  },
  {
   "cell_type": "code",
   "execution_count": 26,
   "metadata": {},
   "outputs": [
    {
     "data": {
      "text/plain": [
       "{'error': 'json: cannot unmarshal string into Go struct field Video.author of type entity.Person'}"
      ]
     },
     "execution_count": 26,
     "metadata": {},
     "output_type": "execute_result"
    }
   ],
   "source": [
    "invalid_auth_post_videos_1 = {\n",
    "    \"title\": \"Title\",\n",
    "    \"description\": \"Description\",\n",
    "    \"url\": \"in_valid url\",\n",
    "    \"author\": \"Michael Scott\",\n",
    "}\n",
    "\n",
    "invalid_auth_post_videos_response_1 = rq.auth_post_videos(USERNAME, PASSWORD, invalid_auth_post_videos)\n",
    "invalid_auth_post_videos_response_1"
   ]
  },
  {
   "cell_type": "code",
   "execution_count": 30,
   "metadata": {},
   "outputs": [
    {
     "data": {
      "text/plain": [
       "{'error': \"Key: 'Video.Title' Error:Field validation for 'Title' failed on the 'is-cool' tag\"}"
      ]
     },
     "execution_count": 30,
     "metadata": {},
     "output_type": "execute_result"
    }
   ],
   "source": [
    "invalid_auth_post_videos_2 = {\n",
    "    \"title\": \"Title\",\n",
    "    \"description\": \"Description\",\n",
    "    \"url\": \"https://www.youtube.com/watch?v=dQw4w9WgXcQ\",\n",
    "    \"author\": {\n",
    "        \"firstname\": \"Rodrigo\",\n",
    "        \"lastname\": \"Perez\",\n",
    "        \"age\": 23,\n",
    "        \"email\": \"newemail@email.com\"    \n",
    "    },\n",
    "}\n",
    "\n",
    "invalid_auth_post_videos_response_2 = rq.auth_post_videos(USERNAME, PASSWORD, invalid_auth_post_videos_2)\n",
    "invalid_auth_post_videos_response_2"
   ]
  },
  {
   "cell_type": "code",
   "execution_count": 31,
   "metadata": {},
   "outputs": [
    {
     "data": {
      "text/plain": [
       "[{'title': 'Title Cool',\n",
       "  'description': 'Description',\n",
       "  'url': 'https://www.youtube.com/watch?v=dQw4w9WgXcQ',\n",
       "  'author': {'firstname': 'Rodrigo',\n",
       "   'lastname': 'Perez',\n",
       "   'age': 23,\n",
       "   'email': 'rodrigo_perez@email.com'}},\n",
       " {'title': 'Title Cool',\n",
       "  'description': 'Description',\n",
       "  'url': 'https://www.youtube.com/watch?v=dQw4w9WgXcQ',\n",
       "  'author': {'firstname': 'Rodrigo',\n",
       "   'lastname': 'Perez',\n",
       "   'age': 23,\n",
       "   'email': 'rodrigo_perez@email.com'}}]"
      ]
     },
     "execution_count": 31,
     "metadata": {},
     "output_type": "execute_result"
    }
   ],
   "source": [
    "auth_get_videos_data = rq.auth_get_videos(USERNAME, PASSWORD)\n",
    "auth_get_videos_data"
   ]
  },
  {
   "cell_type": "code",
   "execution_count": null,
   "metadata": {},
   "outputs": [],
   "source": []
  }
 ],
 "metadata": {
  "kernelspec": {
   "display_name": "Python 3.7.13 ('full-topping')",
   "language": "python",
   "name": "python3"
  },
  "language_info": {
   "codemirror_mode": {
    "name": "ipython",
    "version": 3
   },
   "file_extension": ".py",
   "mimetype": "text/x-python",
   "name": "python",
   "nbconvert_exporter": "python",
   "pygments_lexer": "ipython3",
   "version": "3.10.4"
  },
  "orig_nbformat": 4,
  "vscode": {
   "interpreter": {
    "hash": "6982d3215651ef1cecaffedb737c2ea8301b565ecfd22ead79a6d669a4ce95a9"
   }
  }
 },
 "nbformat": 4,
 "nbformat_minor": 2
}
