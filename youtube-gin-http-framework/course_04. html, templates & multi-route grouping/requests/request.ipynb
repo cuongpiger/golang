{
 "cells": [
  {
   "cell_type": "code",
   "execution_count": 35,
   "metadata": {},
   "outputs": [
    {
     "name": "stdout",
     "output_type": "stream",
     "text": [
      "The autoreload extension is already loaded. To reload it, use:\n",
      "  %reload_ext autoreload\n"
     ]
    }
   ],
   "source": [
    "%load_ext autoreload\n",
    "%autoreload 2"
   ]
  },
  {
   "cell_type": "code",
   "execution_count": 36,
   "metadata": {},
   "outputs": [],
   "source": [
    "import request as rq"
   ]
  },
  {
   "cell_type": "code",
   "execution_count": 37,
   "metadata": {},
   "outputs": [],
   "source": [
    "USERNAME = \"pragmatic\"\n",
    "PASSWORD = \"reviews\""
   ]
  },
  {
   "cell_type": "code",
   "execution_count": 38,
   "metadata": {},
   "outputs": [
    {
     "name": "stdout",
     "output_type": "stream",
     "text": [
      "{'message': 'Video input is valid.'}\n",
      "{'message': 'Video input is valid.'}\n",
      "{'message': 'Video input is valid.'}\n"
     ]
    }
   ],
   "source": [
    "valid_auth_post_videos = [\n",
    "    {\n",
    "        \"title\": \"Title Cool\",\n",
    "        \"description\": \"Description we do not\",\n",
    "        \"url\": \"https://youtube.com/embed/cAb-UXbJysc\",\n",
    "        \"author\": {\n",
    "            \"firstname\": \"Rodrigo\",\n",
    "            \"lastname\": \"Perez\",\n",
    "            \"age\": 23,\n",
    "            \"email\": \"rodrigo_perez@email.com\"\n",
    "        },\n",
    "    },\n",
    "    {\n",
    "        \"title\": \"Title Cool\",\n",
    "        \"description\": \"Description hihi\",\n",
    "        \"url\": \"https://www.youtube.com/embed/9yLRnP9sXOI\",\n",
    "        \"author\": {\n",
    "            \"firstname\": \"Rodrigo\",\n",
    "            \"lastname\": \"Perez\",\n",
    "            \"age\": 23,\n",
    "            \"email\": \"rodrigo_perez@email.com\"\n",
    "        },\n",
    "    },\n",
    "    {\n",
    "        \"title\": \"Title Sooo Cool\",\n",
    "        \"description\": \"Description haha\",\n",
    "        \"url\": \"https://www.youtube.com/embed/SwJGA4DPJS8\",\n",
    "        \"author\": {\n",
    "            \"firstname\": \"Rodrigo\",\n",
    "            \"lastname\": \"Perez\",\n",
    "            \"age\": 23,\n",
    "            \"email\": \"rodrigo_perez@email.com\"\n",
    "        },\n",
    "    }\n",
    "]\n",
    "\n",
    "for d in valid_auth_post_videos:\n",
    "    valid_auth_post_videos_response = rq.auth_post_videos(USERNAME, PASSWORD, d)\n",
    "    print(valid_auth_post_videos_response)\n",
    "    "
   ]
  },
  {
   "cell_type": "code",
   "execution_count": null,
   "metadata": {},
   "outputs": [],
   "source": []
  }
 ],
 "metadata": {
  "kernelspec": {
   "display_name": "Python 3.7.13 ('full-topping')",
   "language": "python",
   "name": "python3"
  },
  "language_info": {
   "codemirror_mode": {
    "name": "ipython",
    "version": 3
   },
   "file_extension": ".py",
   "mimetype": "text/x-python",
   "name": "python",
   "nbconvert_exporter": "python",
   "pygments_lexer": "ipython3",
   "version": "3.10.4"
  },
  "orig_nbformat": 4,
  "vscode": {
   "interpreter": {
    "hash": "6982d3215651ef1cecaffedb737c2ea8301b565ecfd22ead79a6d669a4ce95a9"
   }
  }
 },
 "nbformat": 4,
 "nbformat_minor": 2
}
